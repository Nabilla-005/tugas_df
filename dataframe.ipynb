{
 "cells": [
  {
   "cell_type": "code",
   "execution_count": null,
   "metadata": {},
   "outputs": [],
   "source": [
    "#\"Dengan menggunakan pustaka pandas di Python\n",
    "# buatlah sebuah DataFrame dari data jumlah produksi sampah berdasarkan Kabupaten/Kota di Jawa Barat. \n",
    "# Pastikan kolom-kolomnya menyertakan nama Kabupaten/Kota, jumlah produksi sampah (dalam ton), dan tahun pencatatan.\"\n",
    "import pandas as pd\n",
    "\n",
    "dataframe_excel = pd.read_excel('datasampah.xlsx', sheet_name= 'data')\n",
    "dataframe_excel\n"
   ]
  },
  {
   "cell_type": "code",
   "execution_count": null,
   "metadata": {},
   "outputs": [],
   "source": [
    "# 1. \"Dari DataFrame yang telah dibuat\n",
    "# hitunglah total produksi sampah di seluruh Kabupaten/Kota di Jawa Barat untuk tahun tertentu.\n",
    "# Tampilkan hasilnya.\"\t\n",
    "\n",
    "def hitung_sampah_tahun_2018(dataframe):\n",
    "    total_sampah = 0\n",
    "    data_2018 = []\n",
    "\n",
    "    for _, baris in dataframe.iterrows():\n",
    "        if baris['tahun'] == 2018:\n",
    "            total_sampah += baris['Jumlah sampah']\n",
    "            data_2018.append(baris)\n",
    "    \n",
    "    # Membuat DataFrame dari data pada tahun 2018\n",
    "    tabel_2018 = pd.DataFrame(data_2018)\n",
    "    \n",
    "    # Menampilkan tabel \n",
    "    print(\"Tabel produksi sampah pada tahun 2018:\")\n",
    "    display(tabel_2018)  \n",
    "    \n",
    "    # Menampilkan hasil total produksi sampah\n",
    "    print(f\"\\nTotal produksi sampah di seluruh Kabupaten/Kota pada tahun 2018 mencapai {total_sampah} ton\")\n",
    "\n",
    "# Menghitung dan menampilkan total sampah pada tahun 2018 dalam bentuk tabel\n",
    "hitung_sampah_tahun_2018(dataframe_excel)\n"
   ]
  },
  {
   "cell_type": "code",
   "execution_count": null,
   "metadata": {},
   "outputs": [],
   "source": [
    "#3. jumlah data pertahun\n",
    "\n",
    "def hitung_total_sampah_per_tahun(dataframe):\n",
    "    tahun_unik = dataframe['tahun'].unique()\n",
    "    hasil = []\n",
    "    \n",
    "    for tahun in tahun_unik:\n",
    "        total_sampah = 0\n",
    "        for _, row in dataframe.iterrows():\n",
    "            if row['tahun'] == tahun:\n",
    "                total_sampah += row['Jumlah sampah']\n",
    "        hasil.append({'Tahun': tahun, 'Total Sampah (ton)': total_sampah})\n",
    "    \n",
    "    # Membuat DataFrame baru untuk hasil\n",
    "    hasil_df = pd.DataFrame(hasil)\n",
    "    return hasil_df\n",
    "\n",
    "# Menghitung dan menampilkan total sampah untuk setiap tahun\n",
    "hasil_df = hitung_total_sampah_per_tahun(dataframe_excel)\n",
    "hasil_df\n",
    "\n",
    "\n"
   ]
  },
  {
   "cell_type": "code",
   "execution_count": null,
   "metadata": {},
   "outputs": [],
   "source": [
    "#4. Jumlahkan data per Kota/Kabupaten per tahun\n",
    "\n",
    "def data_per_kota_tahun(dataframe):\n",
    "    hasil = {}\n",
    "    for _, row in dataframe.iterrows():\n",
    "        kota = row['Nama kab/kota']\n",
    "        tahun = row['tahun']\n",
    "        total_sampah = row['Jumlah sampah']\n",
    "        key = (kota, tahun)\n",
    "        if key not in hasil:\n",
    "            hasil[key] = total_sampah  # Menyimpan satu nilai per kota dan tahun, tidak menjumlahkan\n",
    "    return hasil\n",
    "\n",
    "# Mendapatkan data per Kota/Kabupaten per tahun\n",
    "data_kota_tahun = data_per_kota_tahun(dataframe_excel)\n",
    "\n",
    "# Menampilkan hasil dalam format yang berbeda\n",
    "hasil_akhir = []\n",
    "for (kota, tahun), total in data_kota_tahun.items():\n",
    "    hasil_akhir.append(f\"Pada tahun {tahun}, {kota} menghasilkan {total} Ton sampah.\")\n",
    "\n",
    "# Menampilkan hasil\n",
    "for item in hasil_akhir:\n",
    "    print(item)\n",
    "\n"
   ]
  },
  {
   "cell_type": "code",
   "execution_count": 53,
   "metadata": {},
   "outputs": [
    {
     "name": "stdout",
     "output_type": "stream",
     "text": [
      "Data telah diekspor\n"
     ]
    }
   ],
   "source": [
    "# Ekspor hasil ke CSV dan Excel\n",
    "\n",
    "df = pd.DataFrame(hasil_akhir)\n",
    "\n",
    "df.to_csv('hasil_data.csv', index=False)\n",
    "df.to_excel('hasil_.xlsx', index=False)\n",
    "\n",
    "print(\"Data telah diekspor\")"
   ]
  }
 ],
 "metadata": {
  "kernelspec": {
   "display_name": "Python 3",
   "language": "python",
   "name": "python3"
  },
  "language_info": {
   "codemirror_mode": {
    "name": "ipython",
    "version": 3
   },
   "file_extension": ".py",
   "mimetype": "text/x-python",
   "name": "python",
   "nbconvert_exporter": "python",
   "pygments_lexer": "ipython3",
   "version": "3.12.8"
  }
 },
 "nbformat": 4,
 "nbformat_minor": 2
}
